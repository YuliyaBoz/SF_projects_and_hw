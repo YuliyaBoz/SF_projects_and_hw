{
 "cells": [
  {
   "cell_type": "code",
   "execution_count": 1,
   "metadata": {},
   "outputs": [
    {
     "name": "stdout",
     "output_type": "stream",
     "text": [
      "Collecting numpy\n",
      "  Using cached numpy-1.21.2-cp39-cp39-win_amd64.whl (14.0 MB)\n",
      "Installing collected packages: numpy\n",
      "Successfully installed numpy-1.21.2\n",
      "Note: you may need to restart the kernel to use updated packages.\n"
     ]
    },
    {
     "name": "stderr",
     "output_type": "stream",
     "text": [
      "WARNING: You are using pip version 21.1.1; however, version 21.3 is available.\n",
      "You should consider upgrading via the 'C:\\Users\\Юлия\\AppData\\Local\\Programs\\Python\\Python39\\python.exe -m pip install --upgrade pip' command.\n"
     ]
    }
   ],
   "source": [
    "pip install numpy"
   ]
  },
  {
   "cell_type": "code",
   "execution_count": 2,
   "metadata": {},
   "outputs": [
    {
     "name": "stdout",
     "output_type": "stream",
     "text": [
      "Ваш алгоритм угадывает число в среднем за 5 попыток\n"
     ]
    },
    {
     "data": {
      "text/plain": [
       "5"
      ]
     },
     "execution_count": 2,
     "metadata": {},
     "output_type": "execute_result"
    }
   ],
   "source": [
    "import numpy as np\n",
    "\n",
    "\n",
    "def game_core(number):\n",
    "    \"\"\"Функция принимает загаданное компьютером число, угадывает его\n",
    "    и возвращает кол-во попыток угадывания.\n",
    "\n",
    "    Args:\n",
    "        number (int): загаданное компьютером число\n",
    "\n",
    "    Returns:\n",
    "        int: кол-во попыток угадать число\n",
    "    \"\"\"\n",
    "    bottom = 0\n",
    "    up = 101\n",
    "    count = 1\n",
    "\n",
    "    \n",
    "    predict = (up-bottom) // 2 \n",
    "    while number != predict:\n",
    "        count += 1\n",
    "        if number > predict:\n",
    "            bottom = max(bottom, predict) \n",
    "            predict += (up-predict) // 2\n",
    "        else: \n",
    "            up = min(up, predict)\n",
    "            predict -= (predict-bottom) // 2\n",
    "            \n",
    "    return count\n",
    "\n",
    "\n",
    "def score_game(game_core):\n",
    "    \"\"\"Функция запускает игру 1000 раз и смотрит среднее кол-во попыток угадывания\n",
    "\n",
    "    Args:\n",
    "        game_core: функция угадывания числа\n",
    "\n",
    "    Returns:\n",
    "        int: среднее количество попыток, за которое угадывается число\n",
    "    \"\"\"\n",
    "    count_ls = []\n",
    "    \n",
    "    np.random.seed(1)  \n",
    "    random_array = np.random.randint(1, 101, size=1000)\n",
    "    \n",
    "    for number in random_array:\n",
    "        count_ls.append(game_core(number))\n",
    "        \n",
    "    score = int(np.mean(count_ls))\n",
    "    print(f\"Ваш алгоритм угадывает число в среднем за {score} попыток\")\n",
    "    return score\n",
    "\n",
    "\n",
    "# Проверяем запуск игры 1000 раз\n",
    "score_game(game_core)"
   ]
  },
  {
   "cell_type": "code",
   "execution_count": null,
   "metadata": {},
   "outputs": [],
   "source": []
  },
  {
   "cell_type": "code",
   "execution_count": null,
   "metadata": {},
   "outputs": [],
   "source": []
  }
 ],
 "metadata": {
  "interpreter": {
   "hash": "8b3f469ef404243f3cbc404a7ee7a5dd2242b19a4510b04a2c4b6c2b65d62bf2"
  },
  "kernelspec": {
   "display_name": "Python 3.9.5 64-bit (system)",
   "name": "python3"
  },
  "language_info": {
   "codemirror_mode": {
    "name": "ipython",
    "version": 3
   },
   "file_extension": ".py",
   "mimetype": "text/x-python",
   "name": "python",
   "nbconvert_exporter": "python",
   "pygments_lexer": "ipython3",
   "version": "3.9.5"
  }
 },
 "nbformat": 4,
 "nbformat_minor": 4
}
